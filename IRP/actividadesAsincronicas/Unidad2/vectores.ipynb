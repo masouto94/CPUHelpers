{
 "cells": [
  {
   "cell_type": "code",
   "execution_count": 1,
   "id": "096dcbcb-bf32-4e44-98ee-5c0113fcf22f",
   "metadata": {},
   "outputs": [
    {
     "name": "stdout",
     "output_type": "stream",
     "text": [
      "[-2  5]\n",
      "[-6  2]\n",
      "[ 5 -5]\n",
      "[-4 -3]\n",
      "[-4.         -9.33333333]\n"
     ]
    }
   ],
   "source": [
    "import numpy as np\n",
    "\n",
    "u = np.asarray([-3,1])\n",
    "v = np.asarray([2,-5])\n",
    "w = np.asarray([3,0])\n",
    "\n",
    "print(-v)\n",
    "print(2*u)\n",
    "print(v+w)\n",
    "print(2*u+v)\n",
    "print((2/3*u)+2*(v-w))"
   ]
  },
  {
   "cell_type": "code",
   "execution_count": 2,
   "id": "ee003fc7-2029-4b1a-be76-11881a55e5db",
   "metadata": {},
   "outputs": [
    {
     "data": {
      "text/plain": [
       "5.0"
      ]
     },
     "execution_count": 2,
     "metadata": {},
     "output_type": "execute_result"
    }
   ],
   "source": [
    "modulo = np.asarray([-3,4])\n",
    "np.linalg.norm(modulo)"
   ]
  },
  {
   "cell_type": "code",
   "execution_count": 3,
   "id": "15bb5490-98c6-4e02-9606-ca56ebf58c91",
   "metadata": {},
   "outputs": [
    {
     "name": "stdout",
     "output_type": "stream",
     "text": [
      "13.0 13.0\n"
     ]
    }
   ],
   "source": [
    "modulo1 = np.asarray([15-3,5])\n",
    "modulo2 = np.asarray([-9-3,5])\n",
    "print(np.linalg.norm(modulo1), np.linalg.norm(modulo2))"
   ]
  },
  {
   "cell_type": "code",
   "execution_count": 4,
   "id": "06f0cce7-5565-4f3e-aceb-ee22e0c52da8",
   "metadata": {},
   "outputs": [],
   "source": [
    "#pregunta 10\n",
    "v= np.asarray([2,5])  \n",
    "w = np.asarray([5,-2])"
   ]
  },
  {
   "cell_type": "code",
   "execution_count": 5,
   "id": "e92622f5-b142-4345-b2c3-0c651a286d0b",
   "metadata": {},
   "outputs": [
    {
     "name": "stdout",
     "output_type": "stream",
     "text": [
      "[-1.03  2.43] 2.6392802049043596\n"
     ]
    }
   ],
   "source": [
    "#pregunta 11\n",
    "from math import sqrt\n",
    "r= np.asarray([-3.86,4.6])\n",
    "v= np.asarray([2.83,2.83])  \n",
    "w = np.asarray([0,-5])\n",
    "\n",
    "sumatoria = r+v+w\n",
    "\n",
    "resultante = sqrt((sumatoria**2).sum())\n",
    "print(sumatoria,resultante)"
   ]
  },
  {
   "cell_type": "code",
   "execution_count": 11,
   "id": "c22f4489-3dde-44e9-8413-6fad65b550bb",
   "metadata": {},
   "outputs": [
    {
     "data": {
      "text/plain": [
       "6"
      ]
     },
     "execution_count": 11,
     "metadata": {},
     "output_type": "execute_result"
    }
   ],
   "source": [
    "#producto vectorial\n",
    "v1 = np.asarray([0,1,2,3])\n",
    "v2 = np.asarray([1,1,1,1])\n",
    "# seria 0*1 + 1*1 + 2*1 + 3*1 = 6\n",
    "np.dot(v1,v2)"
   ]
  },
  {
   "cell_type": "code",
   "execution_count": 19,
   "id": "5179f2a9-84da-422f-954f-f0b3fd6b1059",
   "metadata": {},
   "outputs": [
    {
     "name": "stdout",
     "output_type": "stream",
     "text": [
      "-2\n",
      "0\n",
      "14\n",
      "19\n"
     ]
    }
   ],
   "source": [
    "#pregunta 1\n",
    "u = np.asarray([3,-1])\n",
    "v = np.asarray([0,2])\n",
    "w = np.asarray([2,6]) \n",
    "t = np.asarray([-5,4])\n",
    "\n",
    "print(np.dot(u,v))\n",
    "print(np.dot(u,w))\n",
    "print(np.dot(w,t))\n",
    "print(np.dot(u,w-t))"
   ]
  },
  {
   "cell_type": "code",
   "execution_count": 23,
   "id": "7b47e5d3-5c31-4ed4-9df3-4dd075b71667",
   "metadata": {},
   "outputs": [
    {
     "data": {
      "text/plain": [
       "-7.529"
      ]
     },
     "execution_count": 23,
     "metadata": {},
     "output_type": "execute_result"
    }
   ],
   "source": [
    "np.dot(np.asarray([1.7,4.7]),np.asarray([1.93,-2.3]))"
   ]
  },
  {
   "cell_type": "code",
   "execution_count": 50,
   "id": "4c2a17c2-0daf-45ef-adf7-a18559a9d7fb",
   "metadata": {},
   "outputs": [
    {
     "name": "stdout",
     "output_type": "stream",
     "text": [
      "0\n",
      "-13.5\n",
      "-5.0\n",
      "13\n"
     ]
    }
   ],
   "source": [
    "#perpendiculares\n",
    "u =np.asarray([-2,5])\n",
    "v =np.asarray([10,4])\n",
    "w =np.asarray([0.5,-2.5]) \n",
    "t =np.asarray([1,3])\n",
    "\n",
    "print(np.vdot(u,v))\n",
    "print(np.vdot(u,w))\n",
    "print(np.vdot(v,w))\n",
    "print(np.vdot(u,t))"
   ]
  },
  {
   "cell_type": "code",
   "execution_count": 51,
   "id": "e16a079d-b176-4bad-a6c8-2e0d5bccc506",
   "metadata": {},
   "outputs": [
    {
     "name": "stdout",
     "output_type": "stream",
     "text": [
      "[array([-1.6,  1.2]), array([2, 0]), array([-1.6, -1.2]), array([1.6, 1.2]), array([ 1.6, -1.2]), array([0, 2])]\n",
      "3333\n"
     ]
    },
    {
     "data": {
      "text/plain": [
       "-8.881784197001252e-16"
      ]
     },
     "execution_count": 51,
     "metadata": {},
     "output_type": "execute_result"
    }
   ],
   "source": [
    "#pregunta 58\n",
    "v1 = np.asarray([-4 , 3])\n",
    "v2 = np.asarray([4 , 3])\n",
    "v3 = np.asarray([-8/5 , 6/5])\n",
    "v4 = np.asarray([2 , 0])\n",
    "v5 = np.asarray([3 , -4])\n",
    "v6 = np.asarray([-8/5 , -6/5])\n",
    "v7 = np.asarray([4/5 , 3/5])\n",
    "v8 = np.asarray([8/5 , 6/5])\n",
    "v9 = np.asarray([8/5 , -6/5])\n",
    "v10 = np.asarray([0 , 2])\n",
    "\n",
    "vectores = [v1,v2,v3,v4,v5,v6,v7,v8,v9,v10]\n",
    "vec= np.asarray([-3,4])\n",
    "mod_2 = [v for v in vectores if np.linalg.norm(v) ==2]\n",
    "perp = [v for v in vectores if np.dot(v, np.asarray([-3,4])) == 0]\n",
    "print(mod_2)\n",
    "print(\"3333\")\n",
    "perp\n",
    "np.vdot(np.asarray([8/5 , 6/5]), vec)\n",
    "#arreglar"
   ]
  },
  {
   "cell_type": "code",
   "execution_count": 65,
   "id": "152bed0a-0a41-4cdf-a1fc-266e49ebc87b",
   "metadata": {},
   "outputs": [],
   "source": [
    "#paralelos\n",
    "u=np.asarray([-2,5])\n",
    "v= np.asarray([10,4])\n",
    "w =np.asarray([1,-2.5])\n",
    "t =np.asarray([1,3])\n",
    "\n"
   ]
  },
  {
   "cell_type": "code",
   "execution_count": 66,
   "id": "1377dc5e-114e-490a-af1f-db1354957f13",
   "metadata": {},
   "outputs": [
    {
     "data": {
      "text/plain": [
       "[]"
      ]
     },
     "execution_count": 66,
     "metadata": {},
     "output_type": "execute_result"
    }
   ],
   "source": [
    "u=np.asarray([3,4])\n",
    "v= np.asarray([10,4])\n",
    "w =np.asarray([1,-2.5])\n",
    "t =np.asarray([1,3])\n",
    "\n",
    "mod_10 = [_v for _v in [u,v,w,t] if np.linalg.norm(_v) ==10]\n",
    "mod_10\n"
   ]
  }
 ],
 "metadata": {
  "kernelspec": {
   "display_name": "Python 3 (ipykernel)",
   "language": "python",
   "name": "python3"
  },
  "language_info": {
   "codemirror_mode": {
    "name": "ipython",
    "version": 3
   },
   "file_extension": ".py",
   "mimetype": "text/x-python",
   "name": "python",
   "nbconvert_exporter": "python",
   "pygments_lexer": "ipython3",
   "version": "3.11.3"
  }
 },
 "nbformat": 4,
 "nbformat_minor": 5
}
