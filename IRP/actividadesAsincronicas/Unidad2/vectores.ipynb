{
 "cells": [
  {
   "cell_type": "code",
   "execution_count": 13,
   "id": "096dcbcb-bf32-4e44-98ee-5c0113fcf22f",
   "metadata": {},
   "outputs": [
    {
     "name": "stdout",
     "output_type": "stream",
     "text": [
      "[-2  5]\n",
      "[-6  2]\n",
      "[ 5 -5]\n",
      "[-4 -3]\n",
      "[-4.         -9.33333333]\n"
     ]
    }
   ],
   "source": [
    "import numpy as np\n",
    "\n",
    "u = np.asarray([-3,1])\n",
    "v = np.asarray([2,-5])\n",
    "w = np.asarray([3,0])\n",
    "\n",
    "print(-v)\n",
    "print(2*u)\n",
    "print(v+w)\n",
    "print(2*u+v)\n",
    "print((2/3*u)+2*(v-w))"
   ]
  },
  {
   "cell_type": "code",
   "execution_count": 20,
   "id": "ee003fc7-2029-4b1a-be76-11881a55e5db",
   "metadata": {},
   "outputs": [
    {
     "data": {
      "text/plain": [
       "5.0"
      ]
     },
     "execution_count": 20,
     "metadata": {},
     "output_type": "execute_result"
    }
   ],
   "source": [
    "modulo = np.asarray([-3,4])\n",
    "np.linalg.norm(modulo)"
   ]
  },
  {
   "cell_type": "code",
   "execution_count": 24,
   "id": "15bb5490-98c6-4e02-9606-ca56ebf58c91",
   "metadata": {},
   "outputs": [
    {
     "name": "stdout",
     "output_type": "stream",
     "text": [
      "13.0 13.0\n"
     ]
    }
   ],
   "source": [
    "modulo1 = np.asarray([15-3,5])\n",
    "modulo2 = np.asarray([-9-3,5])\n",
    "print(np.linalg.norm(modulo1), np.linalg.norm(modulo2))"
   ]
  },
  {
   "cell_type": "code",
   "execution_count": 29,
   "id": "06f0cce7-5565-4f3e-aceb-ee22e0c52da8",
   "metadata": {},
   "outputs": [],
   "source": [
    "#pregunta 10\n",
    "v= np.asarray([2,5])  \n",
    "w = np.asarray([5,-2])"
   ]
  },
  {
   "cell_type": "code",
   "execution_count": 40,
   "id": "e92622f5-b142-4345-b2c3-0c651a286d0b",
   "metadata": {},
   "outputs": [
    {
     "name": "stdout",
     "output_type": "stream",
     "text": [
      "[-1.03  2.43] 2.6392802049043596\n"
     ]
    }
   ],
   "source": [
    "#pregunta 11\n",
    "from math import sqrt\n",
    "r= np.asarray([-3.86,4.6])\n",
    "v= np.asarray([2.83,2.83])  \n",
    "w = np.asarray([0,-5])\n",
    "\n",
    "sumatoria = r+v+w\n",
    "\n",
    "resultante = sqrt((sumatoria**2).sum())\n",
    "print(sumatoria,resultante)"
   ]
  }
 ],
 "metadata": {
  "kernelspec": {
   "display_name": "Python 3 (ipykernel)",
   "language": "python",
   "name": "python3"
  },
  "language_info": {
   "codemirror_mode": {
    "name": "ipython",
    "version": 3
   },
   "file_extension": ".py",
   "mimetype": "text/x-python",
   "name": "python",
   "nbconvert_exporter": "python",
   "pygments_lexer": "ipython3",
   "version": "3.11.3"
  }
 },
 "nbformat": 4,
 "nbformat_minor": 5
}
