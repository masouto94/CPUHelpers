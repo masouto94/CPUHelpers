{
 "cells": [
  {
   "cell_type": "code",
   "execution_count": 41,
   "id": "a17c8b54-b1eb-46c5-abbe-ae9040ffb2cb",
   "metadata": {},
   "outputs": [
    {
     "name": "stdout",
     "output_type": "stream",
     "text": [
      "1) 13.0\n",
      "2) 16.0\n",
      "17.0\n",
      "61.92751306414704 28.072486935852957\n",
      "0.47058823529411764 0.8823529411764706 0.5333333333333333\n",
      "alfa en radianes 1.0808390005411683\n",
      "beta en radianes 0.4899573262537283\n"
     ]
    },
    {
     "data": {
      "text/plain": [
       "172.9843222291193"
      ]
     },
     "execution_count": 41,
     "metadata": {},
     "output_type": "execute_result"
    }
   ],
   "source": [
    "import math\n",
    "#recordar pasar radianes\n",
    "#math.sin(math.radians(64))*3\n",
    "\n",
    "\n",
    "#pregunta1\n",
    "a=5\n",
    "b=12\n",
    "hipotenusa= math.sqrt(pow(a,2)+pow(b,2))\n",
    "print(\"1)\",hipotenusa)\n",
    "\n",
    "#pregunta2\n",
    "a=12\n",
    "h=20\n",
    "\n",
    "catetob =  math.sqrt(pow(h,2)-pow(b,2))\n",
    "print(\"2)\",catetob)\n",
    "\n",
    "#hipotenusa es\n",
    "hipotenusa =  math.sqrt(pow(8,2)+pow(15,2))\n",
    "print(hipotenusa)\n",
    "\n",
    "sin_a = 15 / hipotenusa\n",
    "cos_a = 8 / hipotenusa\n",
    "tan_a = 15 / 8\n",
    "\n",
    "valor_alfa = math.degrees(math.asin(sin_a)) \n",
    "valor_beta = 180 - 90 - valor_alfa\n",
    "print(valor_alfa,valor_beta)\n",
    "\n",
    "sin_b = 8 / hipotenusa\n",
    "cos_b = 15 / hipotenusa\n",
    "tan_b = 8 / 15\n",
    "\n",
    "print(sin_b, cos_b,tan_b)\n",
    "print('alfa en radianes',math.asin(sin_a))\n",
    "print('beta en radianes',math.asin(sin_b))\n",
    "\n",
    "#pregunta 4\n",
    "\n",
    "opuesto = math.tan(math.radians(32)) *120\n",
    "opuesto+98"
   ]
  }
 ],
 "metadata": {
  "kernelspec": {
   "display_name": "Python 3 (ipykernel)",
   "language": "python",
   "name": "python3"
  },
  "language_info": {
   "codemirror_mode": {
    "name": "ipython",
    "version": 3
   },
   "file_extension": ".py",
   "mimetype": "text/x-python",
   "name": "python",
   "nbconvert_exporter": "python",
   "pygments_lexer": "ipython3",
   "version": "3.11.3"
  }
 },
 "nbformat": 4,
 "nbformat_minor": 5
}
