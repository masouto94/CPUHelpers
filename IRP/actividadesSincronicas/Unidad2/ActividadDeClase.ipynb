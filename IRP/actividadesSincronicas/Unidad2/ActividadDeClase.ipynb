{
 "cells": [
  {
   "cell_type": "code",
   "execution_count": null,
   "id": "b7e4bcdb-7357-416c-96ea-8cba1a2faf6f",
   "metadata": {},
   "outputs": [],
   "source": []
  },
  {
   "cell_type": "markdown",
   "id": "ec455233-b4a5-422e-9a2c-ccc7e8d7b562",
   "metadata": {},
   "source": [
    "## Actividad 1: Problema de encuentro - MRU y MRUV"
   ]
  },
  {
   "cell_type": "markdown",
   "id": "81bef19a-c3b6-406e-95ce-fed384a82608",
   "metadata": {},
   "source": [
    "### Parte 1\n",
    "\n",
    "Un automovilista circula con una velocidad constante de 144 km/h y pasa frente a un puesto de control policial. El patrullero sale en persecución partiendo del reposo y acelera a razón de 5 m/s².\n",
    "\n",
    "\n",
    "   a)¿A qué distancia del puesto de control lo intercepta y cuánto tiempo después? Responder debajo.\n",
    "\n",
    "   b)¿Cuál es la velocidad de cada vehículo en ese instante? Responder debajo.\n",
    "\n",
    "   c) Realizar un único gráfico de la posición en función de tiempo x(t) para ambos móviles, indicando la distancia al puesto de control y el tiempo en que se encuentran. Insertarlo debajo.\n",
    "\n",
    "   d) Realizar un único gráfico de la velocidad en función de tiempo v(t) para ambos móviles. Insertarlo debajo.\n",
    "\n"
   ]
  },
  {
   "cell_type": "code",
   "execution_count": 2,
   "id": "f17d1250-5ec9-421e-874a-8d7fd206edb6",
   "metadata": {
    "scrolled": true
   },
   "outputs": [
    {
     "name": "stdout",
     "output_type": "stream",
     "text": [
      "La ecuación a resolver para la distancia es Xf = x0 + v0 * t + 1/2 a * t²\n"
     ]
    }
   ],
   "source": [
    "#a)\n",
    "vel_auto_m_s = 144 / 3.6\n",
    "acel_patrullero_m_s_s = 5\n",
    "print(f\"La ecuación a resolver para la distancia es Xf = x0 + v0 * t + 1/2 a * t²\")"
   ]
  },
  {
   "cell_type": "code",
   "execution_count": 3,
   "id": "794837fb-445f-46cc-aabe-496c0da71be6",
   "metadata": {},
   "outputs": [],
   "source": [
    "#guardamos esa ecuacion como funcion para después\n",
    "def posicion_mruv(x0:float,v0:float,a:float,t:float) -> float:\n",
    "    return x0 + v0 * t + (0.5 * a * pow(t,2))\n",
    "    "
   ]
  },
  {
   "cell_type": "markdown",
   "id": "c19a9c9f-bc22-4efa-b8b2-7ed76812970d",
   "metadata": {},
   "source": [
    "No tenemos ni Xf ni t. Entonces hay que encontrar t. Para eso, se usa la ecuación de posición para ambos\n",
    "\n",
    "Como el auto es MRU y el patrullero MRUV, queda así"
   ]
  },
  {
   "cell_type": "code",
   "execution_count": 4,
   "id": "1f06b42c-89e1-4b66-a097-26e3c8883231",
   "metadata": {},
   "outputs": [
    {
     "name": "stdout",
     "output_type": "stream",
     "text": [
      "V * t = 1/2 a * t²\n",
      "40.0 m/s * t = 1/2 5 m/s² * t²\n"
     ]
    }
   ],
   "source": [
    "print(\"V * t = 1/2 a * t²\")\n",
    "print(f\"{vel_auto_m_s} m/s * t = 1/2 {acel_patrullero_m_s_s} m/s² * t²\")"
   ]
  },
  {
   "cell_type": "markdown",
   "id": "014f1f26-0199-40f0-9899-879b39a4532b",
   "metadata": {},
   "source": [
    "Tenemos dos magnitudes diferentes. Entonces podemos redefinir la aceleración como delta v / delta t. Como t0 y v0 son cero, queda asi"
   ]
  },
  {
   "cell_type": "code",
   "execution_count": 5,
   "id": "0d3f6c97-b406-45f7-b232-8206db8a013e",
   "metadata": {},
   "outputs": [
    {
     "name": "stdout",
     "output_type": "stream",
     "text": [
      "40.0 m/s * t = 1/2 (5 m/s / t)  * t²\n",
      "40.0 m/s  = 1/2 (5 m/s) * t\n",
      "40.0 m/s * 2  = (5 m/s) * t)\n",
      "80.0 m/s   = (5 m/s) * t)\n",
      "Como m/s se cancelan mutuamente, queda t\n",
      "16.0 = t\n"
     ]
    }
   ],
   "source": [
    "print(f\"{vel_auto_m_s} m/s * t = 1/2 (5 m/s / t)  * t²\")\n",
    "#Resolviendo y simplificando t\n",
    "print(f\"{vel_auto_m_s} m/s  = 1/2 (5 m/s) * t\")\n",
    "print(f\"{vel_auto_m_s} m/s * 2  = (5 m/s) * t)\")\n",
    "print(f\"{vel_auto_m_s * 2} m/s   = (5 m/s) * t)\")\n",
    "print(\"Como m/s se cancelan mutuamente, queda t\")\n",
    "print(f\"{vel_auto_m_s * 2 / 5} = t\")\n"
   ]
  },
  {
   "cell_type": "markdown",
   "id": "8745db1c-22a8-46a1-ace2-416ca92c9506",
   "metadata": {},
   "source": [
    "Entonces, ahora solo debemos aplicar la ecuación de posición con t=16"
   ]
  },
  {
   "cell_type": "code",
   "execution_count": 6,
   "id": "e39444f8-6606-45bc-b48e-c9d555e3cba3",
   "metadata": {},
   "outputs": [
    {
     "data": {
      "text/plain": [
       "640.0"
      ]
     },
     "execution_count": 6,
     "metadata": {},
     "output_type": "execute_result"
    }
   ],
   "source": [
    "posicion_mruv(0,0,5,16)"
   ]
  },
  {
   "cell_type": "markdown",
   "id": "68c434f7-c292-4a27-923b-c64d1f8e614d",
   "metadata": {},
   "source": [
    "Entonces la respuesta a es: Lo intercepta a **640 metros** del puesto de control y tarda **16 segundos**"
   ]
  },
  {
   "cell_type": "code",
   "execution_count": 7,
   "id": "b0eaf618-b1bc-47bb-9d55-40db670fbcc0",
   "metadata": {},
   "outputs": [
    {
     "name": "stdout",
     "output_type": "stream",
     "text": [
      "En la operación anterior ya sacamos la velocidad. Pero igualmente podemos plantear la ecuación para resolver la velocidad en el MRUV para chequear: VF = v0 + a*t\n",
      "Si tarda 16 segundos en intercerptarlo, su velocidad en ese momento será 80 m/s. \n",
      "El auto no tiene aceleración así que su velocidad es 40 m/s \n"
     ]
    }
   ],
   "source": [
    "#b)\n",
    "print(\"En la operación anterior ya sacamos la velocidad. Pero igualmente podemos plantear la ecuación para resolver la velocidad en el MRUV para chequear: VF = v0 + a*t\")\n",
    "\n",
    "#La guaramos como func\n",
    "def velocidad_mruv(v0:float,a:float,t:float) -> float:\n",
    "    return v0 + a * t\n",
    "\n",
    "print(f\"\"\"Si tarda 16 segundos en intercerptarlo, su velocidad en ese momento será {velocidad_mruv(0,5,16)} m/s. \n",
    "El auto no tiene aceleración así que su velocidad es 40 m/s \"\"\")   "
   ]
  },
  {
   "cell_type": "markdown",
   "id": "a1a9afec-2325-4160-b051-5c24389a0d33",
   "metadata": {},
   "source": [
    "---"
   ]
  },
  {
   "cell_type": "markdown",
   "id": "7d73e5b5-20e1-4ce4-b692-b2772a1ffea2",
   "metadata": {},
   "source": [
    "### Parte 2\n",
    "Continuemos con la situación anterior y supongamos que no conocemos la velocidad del automovilista .\n",
    "\n",
    "\n",
    "\n",
    "   a)¿Cuál debe ser dicha velocidad para que el patrullero alcance al auto en 36 s? Responder debajo.\n",
    "\n",
    "   b)Realizar un programa en PSeInt que dada una velocidad para el automovilista y una aceleración para el patrullero indique el tiempo en que tardará el patrullero en alcanzar al automovilista. Insertar el algoritmo debajo.\n",
    "\n",
    "   c) Realizar un programa en PSeInt que tenga como variables de entrada la velocidad del automovilista, la aceleración del patrullero y un tiempo que indique si el patrullero alcanzará al automovilista antes de ese tiempo. Insertar el algoritmo debajo.\n"
   ]
  },
  {
   "cell_type": "code",
   "execution_count": 8,
   "id": "1f497ed0-6ddd-4732-bfca-0f2c9d505ba2",
   "metadata": {},
   "outputs": [
    {
     "name": "stdout",
     "output_type": "stream",
     "text": [
      "Para resolver el problema, bastaría con reemplazar la t por 36. Obteniendo la posición:\n",
      "3240.0\n"
     ]
    }
   ],
   "source": [
    "print(f\"Para resolver el problema, bastaría con reemplazar la t por 36. Obteniendo la posición:\")\n",
    "posicion_t_36 = posicion_mruv(0,0,5,36)\n",
    "print(f\"{posicion_t_36}\")"
   ]
  },
  {
   "cell_type": "code",
   "execution_count": 9,
   "id": "03cfab4d-9ed9-49ff-ac61-3b2c2be50291",
   "metadata": {},
   "outputs": [
    {
     "name": "stdout",
     "output_type": "stream",
     "text": [
      "Y replantear la ecuación anterior tratando de despejar v\n",
      "V m/s * t = 1/2 *  5 m/s²* t²\n",
      "V m/s  = 1/2 * 5 m/s²* 3240.0\n",
      "V m/s  = 90.0\n"
     ]
    }
   ],
   "source": [
    "print(f\"Y replantear la ecuación anterior tratando de despejar v\")\n",
    "print(f\"V m/s * t = 1/2 *  5 m/s²* t²\")\n",
    "#Se cancela una t\n",
    "print(f\"V m/s  = 1/2 * 5 m/s²* {posicion_t_36}\")\n",
    "print(f\"V m/s  = {0.5*5*36}\")"
   ]
  },
  {
   "cell_type": "code",
   "execution_count": 10,
   "id": "d8c1837a-b0d7-4124-a7d8-2e11ad5c1933",
   "metadata": {},
   "outputs": [
    {
     "name": "stdout",
     "output_type": "stream",
     "text": [
      "Entonces la velocidad del auto es 324.0 km/h\n"
     ]
    }
   ],
   "source": [
    "print(f\"Entonces la velocidad del auto es {(0.5*5*36)*3.6} km/h\")"
   ]
  },
  {
   "cell_type": "code",
   "execution_count": 11,
   "id": "b5619ea5-3e7c-409e-84b6-a63e56789640",
   "metadata": {},
   "outputs": [
    {
     "data": {
      "text/plain": [
       "16.0"
      ]
     },
     "execution_count": 11,
     "metadata": {},
     "output_type": "execute_result"
    }
   ],
   "source": [
    "#b)\n",
    "def tiempo_segun_v_a(v,a) -> float:\n",
    "    return (v*2)/a\n",
    "tiempo_segun_v_a(40,5)"
   ]
  },
  {
   "cell_type": "code",
   "execution_count": 12,
   "id": "c53fa2e7-304a-4940-9cf9-3e569bc94001",
   "metadata": {},
   "outputs": [
    {
     "data": {
      "text/plain": [
       "True"
      ]
     },
     "execution_count": 12,
     "metadata": {},
     "output_type": "execute_result"
    }
   ],
   "source": [
    "#c)\n",
    "def tiempo_segun_v_a_thres(v,a, limit) -> float:\n",
    "    return (v*2)/a <= limit\n",
    "\n",
    "tiempo_segun_v_a_thres(40,5,16)"
   ]
  },
  {
   "cell_type": "markdown",
   "id": "ddfa671d-c46d-4419-a07d-3b8beaf04f36",
   "metadata": {},
   "source": [
    "---"
   ]
  },
  {
   "cell_type": "markdown",
   "id": "806a002e-b757-4c64-8ef1-c8d0afb0c93a",
   "metadata": {},
   "source": [
    "### Parte 3\n",
    "Supongamos que a los 3 s, al ver que el patrullero lo persigue, el automovilista decide acelerar\n",
    "con aceleración de 1 m/s2.\n",
    "\n",
    "(a) Realizar un gráfico de la posición del automovilista.\n",
    "\n",
    "(b) ¿Cuánto tardará el patrullero en alcanzar al automovilista?"
   ]
  },
  {
   "cell_type": "code",
   "execution_count": 102,
   "id": "9a729468-6459-4b6c-9007-5b185925e0c9",
   "metadata": {},
   "outputs": [
    {
     "data": {
      "image/png": "[encoded data removed]",
      "text/plain": [
       "<Figure size 640x480 with 1 Axes>"
      ]
     },
     "metadata": {},
     "output_type": "display_data"
    }
   ],
   "source": [
    "import matplotlib.pyplot as plt\n",
    "vector_dist = []\n",
    "vector_vel = []\n",
    "vel =1\n",
    "interval= range(20)\n",
    "for i in interval: \n",
    "    if i <= 3:\n",
    "        vector_dist.append(vel_auto_m_s*  i)\n",
    "        vector_vel.append(vel_auto_m_s)\n",
    "    if i > 3:\n",
    "        vector_dist.append(vel_auto_m_s * i + vel)\n",
    "        vector_vel.append(vel_auto_m_s + vel)\n",
    "        vel +=1\n",
    "\n",
    "fig, ax = plt.subplots()\n",
    "ax.plot(interval,vector_dist)\n",
    "ax.plot(vector_vel)\n",
    "plt.xticks(interval)\n",
    "plt.xlabel('Tiempo transcurrido (s)')\n",
    "plt.ylabel('Distancia recorrida (m)')\n",
    "plt.yticks(vector_dist)\n",
    "plt.axvline(3, color='red', linestyle ='--')\n",
    "plt.legend(['Distancia','Velocidad','Corte de MRU'])\n",
    "plt.show()"
   ]
  },
  {
   "cell_type": "code",
   "execution_count": 26,
   "id": "3d2ee493-00d8-4d96-ae53-431b2b4cc0cb",
   "metadata": {},
   "outputs": [
    {
     "name": "stdout",
     "output_type": "stream",
     "text": [
      "Habria que igualar como antes pero con dos MRUV. Pero la X0 serían  metros por 3 segundos yendo a 40 m/s\n",
      "120.0 m +40.0 m/s * t +  1/2 * 1 m/s² * t² = x0 + v0 * t +  1/2 * 5 m/s²  * t²\n"
     ]
    }
   ],
   "source": [
    "#b)\n",
    "print(\"Habria que igualar como antes pero con dos MRUV. Pero la X0 serían  metros por 3 segundos yendo a 40 m/s\")\n",
    "print(f\"{vel_auto_m_s * 3 } m +{vel_auto_m_s} m/s * t +  1/2 * 1 m/s² * t² = x0 + v0 * t +  1/2 * 5 m/s²  * t²\")\n"
   ]
  },
  {
   "cell_type": "code",
   "execution_count": 27,
   "id": "a0e565bb-ff4e-407b-8b59-3671fb73ab0c",
   "metadata": {},
   "outputs": [
    {
     "name": "stdout",
     "output_type": "stream",
     "text": [
      "La posicion inicial y la velocidad del patrullero a los 3 segundos\n",
      "22.5 m\n",
      "15 m/s\n"
     ]
    }
   ],
   "source": [
    "print(\"La posicion inicial y la velocidad del patrullero a los 3 segundos\")\n",
    "x0_patrullero = posicion_mruv(0,0,5,3)\n",
    "v0_patrullero = velocidad_mruv(0, 5,3)\n",
    "print(x0_patrullero,'m')\n",
    "print(v0_patrullero,'m/s')"
   ]
  },
  {
   "cell_type": "code",
   "execution_count": 29,
   "id": "9bc6febc-92cd-4461-8a3a-51c07447a46b",
   "metadata": {},
   "outputs": [
    {
     "name": "stdout",
     "output_type": "stream",
     "text": [
      "Entonces queda:\n",
      "120.0 m +40.0 m/s * t +  1/2 * 1 m/s² * t² = 22.5m + 15m/s * t +  1/2 * 5 m/s²  * t²\n",
      "Hay que despejar t\n"
     ]
    }
   ],
   "source": [
    "print(\"Entonces queda:\")\n",
    "print(f\"{vel_auto_m_s * 3 } m +{vel_auto_m_s} m/s * t +  1/2 * 1 m/s² * t² = {x0_patrullero}m + {v0_patrullero}m/s * t +  1/2 * 5 m/s²  * t²\")\n",
    "print(\"Hay que despejar t entonces igualamos a 0\")"
   ]
  },
  {
   "cell_type": "code",
   "execution_count": 32,
   "id": "53e665c6-b457-4210-882b-bd6351764614",
   "metadata": {},
   "outputs": [
    {
     "name": "stdout",
     "output_type": "stream",
     "text": [
      "Resolviendo\n",
      "(120.0-22.5m ) +(40.0-15) m/s * t +  1/2 * 1 m/s² * t²  - 1/2 * 5 m/s²  * t²= 0\n",
      "(97.5m ) +(25.0) m/s * t +  (-2.0) m/s² * t²  = 0\n"
     ]
    }
   ],
   "source": [
    "print(\"Resolviendo\")\n",
    "print(f\"({vel_auto_m_s * 3 }-{x0_patrullero}m ) +({vel_auto_m_s}-{v0_patrullero}) m/s * t +  1/2 * 1 m/s² * t²  - 1/2 * 5 m/s²  * t²= 0\")\n",
    "print(f\"({vel_auto_m_s * 3 - x0_patrullero}m ) +({vel_auto_m_s -v0_patrullero}) m/s * t +  ({0.5*1 - 0.5 * 5}) m/s² * t²  = 0\")\n",
    "\n",
    "print(\"Y ahora queda usar la resolvente\")"
   ]
  },
  {
   "cell_type": "code",
   "execution_count": 37,
   "id": "0d8a1fde-97d2-4d84-aba5-551a8cae90cc",
   "metadata": {},
   "outputs": [
    {
     "name": "stdout",
     "output_type": "stream",
     "text": [
      "Entonces la respuesta es 15.620832406995657 segundos mas 3 iniciales => 18.620832406995657 \n"
     ]
    }
   ],
   "source": [
    "from math import sqrt\n",
    "def resolvente(a,b,c):\n",
    "    denominador = 2 *a\n",
    "    raiz = sqrt(pow(b,2) - 4 * a * c)\n",
    "    suma = (-b + raiz) / denominador\n",
    "    resta = (-b - raiz) / denominador\n",
    "    return suma,resta\n",
    "    \n",
    "x_diff = vel_auto_m_s * 3 - x0_patrullero\n",
    "v_diff = vel_auto_m_s -v0_patrullero\n",
    "a_diff = 0.5*1 - 0.5 * 5\n",
    "resolucion = resolvente(a_diff, v_diff, x_diff)\n",
    "print(f'Entonces la respuesta es {resolucion[1]} segundos mas 3 iniciales => {resolucion[1] +3} ')"
   ]
  },
  {
   "cell_type": "code",
   "execution_count": null,
   "id": "dbad4363-f98d-4276-b3f9-2b23efca04ed",
   "metadata": {},
   "outputs": [],
   "source": []
  },
  {
   "cell_type": "code",
   "execution_count": null,
   "id": "778f022e-2d8a-4545-a47f-963f9c3c0c3f",
   "metadata": {},
   "outputs": [],
   "source": []
  }
 ],
 "metadata": {
  "kernelspec": {
   "display_name": "Python 3 (ipykernel)",
   "language": "python",
   "name": "python3"
  },
  "language_info": {
   "codemirror_mode": {
    "name": "ipython",
    "version": 3
   },
   "file_extension": ".py",
   "mimetype": "text/x-python",
   "name": "python",
   "nbconvert_exporter": "python",
   "pygments_lexer": "ipython3",
   "version": "3.11.3"
  }
 },
 "nbformat": 4,
 "nbformat_minor": 5
}
