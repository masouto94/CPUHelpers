{
 "cells": [
  {
   "cell_type": "code",
   "execution_count": null,
   "id": "b7e4bcdb-7357-416c-96ea-8cba1a2faf6f",
   "metadata": {},
   "outputs": [],
   "source": []
  },
  {
   "cell_type": "markdown",
   "id": "ec455233-b4a5-422e-9a2c-ccc7e8d7b562",
   "metadata": {},
   "source": [
    "## Actividad 1: Problema de encuentro - MRU y MRUV"
   ]
  },
  {
   "cell_type": "markdown",
   "id": "81bef19a-c3b6-406e-95ce-fed384a82608",
   "metadata": {},
   "source": [
    "### Parte 1\n",
    "\n",
    "Un automovilista circula con una velocidad constante de 144 km/h y pasa frente a un puesto de control policial. El patrullero sale en persecución partiendo del reposo y acelera a razón de 5 m/s².\n",
    "\n",
    "\n",
    "   a)¿A qué distancia del puesto de control lo intercepta y cuánto tiempo después? Responder debajo.\n",
    "\n",
    "   b)¿Cuál es la velocidad de cada vehículo en ese instante? Responder debajo.\n",
    "\n",
    "   c) Realizar un único gráfico de la posición en función de tiempo x(t) para ambos móviles, indicando la distancia al puesto de control y el tiempo en que se encuentran. Insertarlo debajo.\n",
    "\n",
    "   d) Realizar un único gráfico de la velocidad en función de tiempo v(t) para ambos móviles. Insertarlo debajo.\n",
    "\n"
   ]
  },
  {
   "cell_type": "code",
   "execution_count": 15,
   "id": "f17d1250-5ec9-421e-874a-8d7fd206edb6",
   "metadata": {
    "scrolled": true
   },
   "outputs": [
    {
     "name": "stdout",
     "output_type": "stream",
     "text": [
      "La ecuación a resolver para la distancia es Xf = x0 + v0 * t + 1/2 a * t²\n"
     ]
    }
   ],
   "source": [
    "#a)\n",
    "vel_auto_m_s = 144 / 3.6\n",
    "acel_patrullero_m_s_s = 5\n",
    "print(f\"La ecuación a resolver para la distancia es Xf = x0 + v0 * t + 1/2 a * t²\")"
   ]
  },
  {
   "cell_type": "code",
   "execution_count": 27,
   "id": "794837fb-445f-46cc-aabe-496c0da71be6",
   "metadata": {},
   "outputs": [],
   "source": [
    "#guardamos esa ecuacion como funcion para después\n",
    "def posicion_mruv(x0:float,v0:float,a:float,t:float):\n",
    "    return x0 + v0 * t + (0.5 * a * pow(t,2))\n",
    "    "
   ]
  },
  {
   "cell_type": "markdown",
   "id": "c19a9c9f-bc22-4efa-b8b2-7ed76812970d",
   "metadata": {},
   "source": [
    "No tenemos ni Xf ni t. Entonces hay que encontrar t. Para eso, se usa la ecuación de posición para ambos\n",
    "\n",
    "Como el auto es MRU y el patrullero MRUV, queda así"
   ]
  },
  {
   "cell_type": "code",
   "execution_count": 28,
   "id": "1f06b42c-89e1-4b66-a097-26e3c8883231",
   "metadata": {},
   "outputs": [
    {
     "name": "stdout",
     "output_type": "stream",
     "text": [
      "V * t = 1/2 a * t²\n",
      "40.0 m/s * t = 1/2 5 m/s² * t²\n"
     ]
    }
   ],
   "source": [
    "print(\"V * t = 1/2 a * t²\")\n",
    "print(f\"{vel_auto_m_s} m/s * t = 1/2 {acel_patrullero_m_s_s} m/s² * t²\")"
   ]
  },
  {
   "cell_type": "markdown",
   "id": "014f1f26-0199-40f0-9899-879b39a4532b",
   "metadata": {},
   "source": [
    "Tenemos dos magnitudes diferentes. Entonces podemos redefinir la aceleración como delta v / delta t. Como t0 y v0 son cero, queda asi"
   ]
  },
  {
   "cell_type": "code",
   "execution_count": 29,
   "id": "0d3f6c97-b406-45f7-b232-8206db8a013e",
   "metadata": {},
   "outputs": [
    {
     "name": "stdout",
     "output_type": "stream",
     "text": [
      "40.0 m/s * t = 1/2 (5 m/s / t)  * t²\n",
      "40.0 m/s  = 1/2 (5 m/s) * t\n",
      "40.0 m/s * 2  = (5 m/s) * t)\n",
      "80.0 m/s   = (5 m/s) * t)\n",
      "Como m/s se cancelan mutuamente, queda t\n",
      "16.0 = t\n"
     ]
    }
   ],
   "source": [
    "print(f\"{vel_auto_m_s} m/s * t = 1/2 (5 m/s / t)  * t²\")\n",
    "#Resolviendo y simplificando t\n",
    "print(f\"{vel_auto_m_s} m/s  = 1/2 (5 m/s) * t\")\n",
    "print(f\"{vel_auto_m_s} m/s * 2  = (5 m/s) * t)\")\n",
    "print(f\"{vel_auto_m_s * 2} m/s   = (5 m/s) * t)\")\n",
    "print(\"Como m/s se cancelan mutuamente, queda t\")\n",
    "print(f\"{vel_auto_m_s * 2 / 5} = t\")\n"
   ]
  },
  {
   "cell_type": "markdown",
   "id": "8745db1c-22a8-46a1-ace2-416ca92c9506",
   "metadata": {},
   "source": [
    "Entonces, ahora solo debemos aplicar la ecuación de posición con t=16"
   ]
  },
  {
   "cell_type": "code",
   "execution_count": 30,
   "id": "e39444f8-6606-45bc-b48e-c9d555e3cba3",
   "metadata": {},
   "outputs": [
    {
     "data": {
      "text/plain": [
       "640.0"
      ]
     },
     "execution_count": 30,
     "metadata": {},
     "output_type": "execute_result"
    }
   ],
   "source": [
    "posicion_mruv(0,0,5,16)"
   ]
  },
  {
   "cell_type": "markdown",
   "id": "68c434f7-c292-4a27-923b-c64d1f8e614d",
   "metadata": {},
   "source": [
    "Entonces la respuesta a es: Lo intercepta a **640 metros** del puesto de control y tarda **16 segundos**"
   ]
  },
  {
   "cell_type": "code",
   "execution_count": 33,
   "id": "b0eaf618-b1bc-47bb-9d55-40db670fbcc0",
   "metadata": {},
   "outputs": [
    {
     "name": "stdout",
     "output_type": "stream",
     "text": [
      "En la operación anterior ya sacamos la velocidad. Pero igualmente podemos plantear la ecuación para resolver la velocidad en el MRUV para chequear: VF = v0 + a*t\n",
      "Si tarda 16 segundos en intercerptarlo, su velocidad en ese momento será 80 m/s. \n",
      "El auto no tiene aceleración así que su velocidad es 40 m/s \n"
     ]
    }
   ],
   "source": [
    "#b)\n",
    "print(\"En la operación anterior ya sacamos la velocidad. Pero igualmente podemos plantear la ecuación para resolver la velocidad en el MRUV para chequear: VF = v0 + a*t\")\n",
    "\n",
    "#La guaramos como func\n",
    "def velocidad_mruv(v0:float,a:float,t:float):\n",
    "    return v0 + a * t\n",
    "\n",
    "print(f\"\"\"Si tarda 16 segundos en intercerptarlo, su velocidad en ese momento será {velocidad_mruv(0,5,16)} m/s. \n",
    "El auto no tiene aceleración así que su velocidad es 40 m/s \"\"\")   "
   ]
  },
  {
   "cell_type": "markdown",
   "id": "a1a9afec-2325-4160-b051-5c24389a0d33",
   "metadata": {},
   "source": [
    "---"
   ]
  },
  {
   "cell_type": "markdown",
   "id": "7d73e5b5-20e1-4ce4-b692-b2772a1ffea2",
   "metadata": {},
   "source": [
    "### Parte 2\n",
    "Continuemos con la situación anterior y supongamos que no conocemos la velocidad del automovilista .\n",
    "\n",
    "\n",
    "\n",
    "   a)¿Cuál debe ser dicha velocidad para que el patrullero alcance al auto en 36 s? Responder debajo.\n",
    "\n",
    "   b)Realizar un programa en PSeInt que dada una velocidad para el automovilista y una aceleración para el patrullero indique el tiempo en que tardará el patrullero en alcanzar al automovilista. Insertar el algoritmo debajo.\n",
    "\n",
    "   c) Realizar un programa en PSeInt que tenga como variables de entrada la velocidad del automovilista, la aceleración del patrullero y un tiempo que indique si el patrullero alcanzará al automovilista antes de ese tiempo. Insertar el algoritmo debajo.\n"
   ]
  },
  {
   "cell_type": "code",
   "execution_count": 37,
   "id": "1f497ed0-6ddd-4732-bfca-0f2c9d505ba2",
   "metadata": {},
   "outputs": [
    {
     "name": "stdout",
     "output_type": "stream",
     "text": [
      "Para resolver el problema, bastaría con reemplazar la t por 36. Obteniendo la posición:\n",
      "3240.0\n"
     ]
    }
   ],
   "source": [
    "print(f\"Para resolver el problema, bastaría con reemplazar la t por 36. Obteniendo la posición:\")\n",
    "posicion_t_36 = posicion_mruv(0,0,5,36)\n",
    "print(f\"{posicion_t_36}\")"
   ]
  },
  {
   "cell_type": "code",
   "execution_count": 44,
   "id": "03cfab4d-9ed9-49ff-ac61-3b2c2be50291",
   "metadata": {},
   "outputs": [
    {
     "name": "stdout",
     "output_type": "stream",
     "text": [
      "Y replantear la ecuación anterior tratando de despejar v\n",
      "V m/s * t = 1/2 5 m/s²* t²\n",
      "V m/s  = 1/2 5 m/s²* 3240.0\n",
      "V m/s  = 90.0\n"
     ]
    }
   ],
   "source": [
    "print(f\"Y replantear la ecuación anterior tratando de despejar v\")\n",
    "print(f\"V m/s * t = 1/2 5 m/s²* t²\")\n",
    "print(f\"V m/s  = 1/2 5 m/s²* {posicion_t_36}\")\n",
    "print(f\"V m/s  = {0.5*5*36}\")"
   ]
  },
  {
   "cell_type": "code",
   "execution_count": null,
   "id": "a0e565bb-ff4e-407b-8b59-3671fb73ab0c",
   "metadata": {},
   "outputs": [],
   "source": []
  }
 ],
 "metadata": {
  "kernelspec": {
   "display_name": "Python 3 (ipykernel)",
   "language": "python",
   "name": "python3"
  },
  "language_info": {
   "codemirror_mode": {
    "name": "ipython",
    "version": 3
   },
   "file_extension": ".py",
   "mimetype": "text/x-python",
   "name": "python",
   "nbconvert_exporter": "python",
   "pygments_lexer": "ipython3",
   "version": "3.8.10"
  }
 },
 "nbformat": 4,
 "nbformat_minor": 5
}
