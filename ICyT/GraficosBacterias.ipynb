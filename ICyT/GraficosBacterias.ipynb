{
 "cells": [
  {
   "cell_type": "code",
   "execution_count": 1,
   "id": "4ba5cbf7-5880-4b0b-939a-141e74a13e73",
   "metadata": {},
   "outputs": [],
   "source": [
    " \n",
    "from BacterialPlotters import *\n",
    "import timeit\n",
    "def mult(sum,n):\n",
    "    return (n+sum)*2\n",
    "    \n",
    "a = np.arange(0,100)\n",
    "\n",
    "stup = '''\n",
    "import numpy as np\n",
    "def mult(sum,n):\n",
    "    return (n+sum)*2\n",
    "    \n",
    "a = np.arange(0,1000)\n",
    "\n",
    "'''\n",
    "#print(timeit.timeit(setup=stup,stmt=\"np.apply_along_axis(lambda x: mult(10,x),0,a)\"))\n",
    "#print(timeit.timeit(setup=stup,stmt=\"np.array([mult(10,x) for x in a])\"))"
   ]
  },
  {
   "cell_type": "code",
   "execution_count": null,
   "id": "ca6e3b6c-e64f-4ac9-b93c-35d0e3d3a9b4",
   "metadata": {},
   "outputs": [],
   "source": [
    "BacterialGrowthPlot(2).graficar_crecimiento_con_poblacion()"
   ]
  }
 ],
 "metadata": {
  "kernelspec": {
   "display_name": "Python 3 (ipykernel)",
   "language": "python",
   "name": "python3"
  },
  "language_info": {
   "codemirror_mode": {
    "name": "ipython",
    "version": 3
   },
   "file_extension": ".py",
   "mimetype": "text/x-python",
   "name": "python",
   "nbconvert_exporter": "python",
   "pygments_lexer": "ipython3",
   "version": "3.11.3"
  }
 },
 "nbformat": 4,
 "nbformat_minor": 5
}
