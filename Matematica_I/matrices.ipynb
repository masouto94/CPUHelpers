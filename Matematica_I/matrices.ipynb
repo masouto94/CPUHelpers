{
 "cells": [
  {
   "cell_type": "code",
   "execution_count": null,
   "metadata": {},
   "outputs": [],
   "source": [
    "import pandas as pd\n",
    "import numpy as np\n",
    "\n",
    "#14)C) dado A hallar la matriz B tal que B sea la identidad de A\n",
    "\n",
    "A = np.array([[1, 0, 0], [2, -1, 3], [0, 0, 1]])\n",
    "identity_matrix= np.identity(3)\n",
    "solution=np.concatenate((A,identity_matrix), axis=1)\n",
    "print(\"Matriz ampliada:\",solution,sep=\"\\n\")\n",
    "solution[1,:] = solution[1,:] - 2*solution[0,:]\n",
    "print(\"F2 - 2F1:\",solution,sep=\"\\n\")\n",
    "solution[1,:] = solution[1,:] - 3*solution[2,:]\n",
    "print(\"F2 - 3F3:\",solution,sep=\"\\n\")\n",
    "solution[1,:] = -1 * solution[1,:]\n",
    "print(\"-1*F2:\",solution,sep=\"\\n\")\n",
    "\n",
    "print(\"La matriz B es:\", solution[:,A.shape[0]:],sep=\"\\n\")\n"
   ]
  },
  {
   "cell_type": "code",
   "execution_count": null,
   "metadata": {},
   "outputs": [],
   "source": [
    "#3) Resolver sistemas de ecuaciones\n",
    "\n",
    "#a)\n",
    "print(\"Ejercicio a\")\n",
    "a_coefs = np.array([[1,1,3],[3,-1,1]])\n",
    "a_coefs[1,:] = a_coefs[1,:] - 3*a_coefs[0,:]\n",
    "print(\"F2-3F1:\", a_coefs,sep=\"\\n\")\n",
    "print(\"La solución es (1;2). SCD\", sep=\"\\n\")"
   ]
  },
  {
   "cell_type": "code",
   "execution_count": null,
   "metadata": {},
   "outputs": [],
   "source": [
    "#b)\n",
    "print(\"Ejercicio b\")\n",
    "b_coefs = np.array([[-2,4,5],[4,-8,6]])\n",
    "b_coefs[1,:] = b_coefs[1,:] + 2* b_coefs[0,:]\n",
    "print(\"F2+2F1:\", b_coefs,sep=\"\\n\")\n",
    "print(\"No tiene solución SI\", sep=\"\\n\")"
   ]
  },
  {
   "cell_type": "code",
   "execution_count": null,
   "metadata": {},
   "outputs": [],
   "source": [
    "#c)\n",
    "print(\"Ejercicio c\")\n",
    "c_coefs = np.array([[-1,3,4],[-2,6,8]])\n",
    "c_coefs[1,:] = c_coefs[1,:] - 2* c_coefs[0,:]\n",
    "print(\"F2-2F1:\", c_coefs,sep=\"\\n\")\n",
    "print(\"Solución (-4+3y; (x+4) / 3) SCI\", sep=\"\\n\")"
   ]
  },
  {
   "cell_type": "code",
   "execution_count": null,
   "metadata": {},
   "outputs": [],
   "source": [
    "#d)\n",
    "print(\"Ejercicio d\")\n",
    "print(\"resuelto dado\")"
   ]
  },
  {
   "cell_type": "code",
   "execution_count": null,
   "metadata": {},
   "outputs": [],
   "source": [
    "#e)\n",
    "print(\"Ejercicio e\")\n",
    "e_coefs = np.array([[1,-2,0,0],[-2,0,1,0],[-1,-2,1,0]])\n",
    "print(e_coefs)\n",
    "e_coefs[1,:] = e_coefs[1,:] + 2 * e_coefs[0,:]\n",
    "print(\"F2+2F1:\", e_coefs,sep=\"\\n\")\n",
    "e_coefs[2,:] = e_coefs[2,:] +  e_coefs[0,:]\n",
    "print(\"F3+F1:\", e_coefs,sep=\"\\n\")\n",
    "e_coefs[2,:] = e_coefs[2,:] -  e_coefs[1,:]\n",
    "print(\"F3-F2:\", e_coefs,sep=\"\\n\")"
   ]
  },
  {
   "cell_type": "code",
   "execution_count": null,
   "metadata": {},
   "outputs": [],
   "source": [
    "#f)\n",
    "print(\"Ejercicio f\")\n",
    "f_coefs = np.array([[1,-2,0,1],[-2,0,1,1],[-1,-2,1,2]], dtype=float)\n",
    "print(f_coefs)\n",
    "f_coefs[1,:] = f_coefs[1,:] + 2 * f_coefs[0,:]\n",
    "print(\"F2 + 2F1\",f_coefs,sep=\"\\n\")\n",
    "f_coefs[2,:] = f_coefs[2,:] +  f_coefs[0,:]\n",
    "print(\"F3 + F1\",f_coefs,sep=\"\\n\")\n",
    "f_coefs[2,:] = f_coefs[2,:] -  f_coefs[1,:]\n",
    "print(\"F3 - F2\",f_coefs,sep=\"\\n\")\n",
    "f_coefs[0,:] = f_coefs[0,:] -  (0.5 * f_coefs[1,:])\n",
    "print(\"F1 - 1/2 F2\",f_coefs,sep=\"\\n\")"
   ]
  },
  {
   "cell_type": "code",
   "execution_count": null,
   "metadata": {},
   "outputs": [],
   "source": [
    "#g)\n",
    "print(\"Ejercicio g\")\n",
    "g_coefs = np.array([[2,3,-1,6],[-1,-2,1,-4],[1,1,0,2],[0,-1,1,-2]], dtype=float)\n",
    "print(g_coefs)\n",
    "g_coefs[2,:] = g_coefs[2,:] - 0.5 * g_coefs[0,:]\n",
    "print(\"F3 - 1/2 F1\",g_coefs,sep=\"\\n\")\n",
    "g_coefs[1,:] = g_coefs[1,:] + 0.5 * g_coefs[0,:]\n",
    "print(\"F2 + 1/2 F1\",g_coefs,sep=\"\\n\")\n",
    "g_coefs[2,:] = g_coefs[2,:] - g_coefs[1,:]\n",
    "print(\"F3 - F2\",g_coefs,sep=\"\\n\")\n",
    "g_coefs[3,:] = g_coefs[3,:] - 2 * g_coefs[1,:]\n",
    "print(\"F2 - 2F1\",g_coefs,sep=\"\\n\")\n",
    "g_coefs[0,:] = g_coefs[0,:] + 6 * g_coefs[1,:]\n",
    "print(\"F1 + 6F2\",g_coefs,sep=\"\\n\")"
   ]
  }
 ],
 "metadata": {
  "kernelspec": {
   "display_name": "venv",
   "language": "python",
   "name": "python3"
  },
  "language_info": {
   "codemirror_mode": {
    "name": "ipython",
    "version": 3
   },
   "file_extension": ".py",
   "mimetype": "text/x-python",
   "name": "python",
   "nbconvert_exporter": "python",
   "pygments_lexer": "ipython3",
   "version": "3.8.10"
  }
 },
 "nbformat": 4,
 "nbformat_minor": 2
}
